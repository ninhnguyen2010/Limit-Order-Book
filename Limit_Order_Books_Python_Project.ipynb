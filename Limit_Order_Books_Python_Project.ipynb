{
  "cells": [
    {
      "cell_type": "markdown",
      "id": "b39ca6ea",
      "metadata": {
        "id": "b39ca6ea"
      },
      "source": [
        "<h1>Limit Order Books</h1>\n",
        "<br>\n",
        "<font size=\"+1\">\n",
        "    <ul>\n",
        "        <li>Any time you want to <b>buy or sell</b> a financial security (stocks, ETFs, bonds, futures, options, etc.), whether it be in a personal brokerage account on TD Ameritrade, Charles Schwab, or Robinhood, or a retirement account such as a 401(k) or IRA, you </li>\n",
        "        <br>\n",
        "        <ul>\n",
        "            <li>first <b>send a particular order to your broker</b> with instructions on what you want to buy/sell, in what quantity, at what price you are willing to accept, and for how long, etc.,</li>\n",
        "            <br>\n",
        "            <li>second, your broker <b>determines how to best get your order filled or completed</b> on one or many exchanges, or even off of an exchange; this is called <b>routing</b> your order and brokers have many choices regarding how they attempt to fulfill your order,</li>\n",
        "            <br>\n",
        "            <li>finally, after the broker decides how to <a href=\"https://www.investor.gov/introduction-investing/investing-basics/how-stock-markets-work/executing-order\">route your order</a>, if your order gets completed, then your order has been executed,</li>\n",
        "            <br>\n",
        "            <ul>\n",
        "                <li>your <b>order execution</b>, meaning the price that your order gets filled, can vary (sometimes significantly) from what you were expecting when you submitted your order to the broker.</li>\n",
        "                <br>\n",
        "            </ul>\n",
        "        </ul>\n",
        "        <li>A limit order book is a centralized database of resting <b>limit orders</b> that keeps track of all orders (buy or sell) on an exchange (i.e. in a marketplace).</li>\n",
        "        <br>\n",
        "        <li>For simplicity, we will assume you can interact directly with a limit order book when submitting orders, in other words, you are a broker.</li>\n",
        "        <br>\n",
        "        <hr style=\"border:10px solid black\">\n",
        "        <br>\n",
        "        <li>The following is a depiction of a limit order book stacked vertically and horizontally, respectively.</li>\n",
        "        <br>\n",
        "        <li>The order book contains prices at which people are <b style=\"color:green\">willing to buy in green, these are referred to as <i>bids</i></b> and prices at which people are <b style=\"color:red\">willing to sell in red, these are referred to as <i>asks or offers</i></b>, and the associated <b>quantities (volume)</b> at each <b style=\"color:green\">buy (bid)</b> or <b style=\"color:red\">sell (ask)</b> price.</li>\n",
        "        <br>\n",
        "        <li>The other <i>\"price\"</i> that is commonly referenced is the <b style=\"color:blue\">mid price</b>, which is the midpoint of the <b style=\"color:green\">bid price</b> and the <b style=\"color:red\">ask price</b> (recall the midpoint between two numbers $x, y$ is $\\frac{x+y}{2}$).</li>\n",
        "        <br>\n",
        "        <li>The difference between the best ask and best bid, i.e. lowest sell price and highest buy price, is called the <b>spread</b>.</li>\n",
        "        <br>\n",
        "        <li>In this market structure, the only way people transact is if someone <b>crosses the spread</b>, which means they are willing to buy at the ask, or sell at the bid. In this event, a trade is executed, and the quantity available gets reduced by the amount traded.</li>\n",
        "        <br>\n",
        "        <li><img src=\"https://www.machow.ski/intro_to_orderbooks/vertical_vs_sidebyside.png\"></li>\n",
        "        <br>\n",
        "        <li>There is no difference between a vertically (left image above) or horizontally (right image above) stacked order book, it is simply two different ways of displaying the same information.</li>\n",
        "        <br>\n",
        "        <li>In the above examples of a limit order book for Bitcoin (BTC),</li>\n",
        "        <br>\n",
        "        <ul>\n",
        "            <li>in the vertically stacked order book, the highest willingness to buy price (bid) is $\\$31,907.34$, with $0.185177$ number of shares as its volume, and the lowest willingness to sell price (ask) is $\\$31,907.35$, with $0.619497$ number of shares as its volume; this implies the spread is $\\$0.01$,</li>\n",
        "            <br>\n",
        "            <li>in the horizontally stacked order book, the highest willingness to buy price (bid) is $\\$31,892.00$, with $3.7062$ number of shares as its volume, and the lowest willingness to sell price (ask) is $\\$31,893.00$, with $1.4041$ number of shares as its volume; this implies the spread is $\\$1.00$.</li>\n",
        "            <br>\n",
        "        </ul>\n",
        "        <li style=\"color:red\">A limit order book can be thought of a queueing system, where each buy and sell price has a queue (line) consisting of all possible order quantites, ordered by their arrival time, that want to transact at that price.</li>\n",
        "        <br>\n",
        "    </ul>\n",
        "</font>"
      ]
    },
    {
      "cell_type": "markdown",
      "id": "3d579119",
      "metadata": {
        "id": "3d579119"
      },
      "source": [
        "<hr style=\"border:10px solid black\">"
      ]
    },
    {
      "cell_type": "markdown",
      "id": "38131f12",
      "metadata": {
        "id": "38131f12"
      },
      "source": [
        "<h2>Exchanges as Trade Facilitators</h2>\n",
        "<br>\n",
        "<font size=\"+1\">\n",
        "    <ul>\n",
        "        <li>An exchange is simply a marketplace, or market, that helps bring parties together who want to buy or sell things, in a centralized way.</li>\n",
        "        <br>\n",
        "        <li>Put succinctly, a market or exchange helps solve the matching problem (i.e. the bilateral-search problem) by bringing together all buyers and sellers.</li>\n",
        "        <br>\n",
        "        <li>Once buyers and sellers are brought together, there needs to be a way to organize their buying and selling inside the marketplace.</li>\n",
        "        <br>\n",
        "        <li>This is where an order book (specifically a limit order book) can add value by organizing all the buyers and sellers in the marketplace and matching them according to a rule/policy/algorithm.</li>\n",
        "        <br>\n",
        "        <ul>\n",
        "            <li>The typical matching policy is to first match orders with better prices and if there are no better prices, then match orders according to their arrival times, this is known as the <i>price-time priority policy</i>.</li>\n",
        "            <br>\n",
        "        </ul>\n",
        "    </ul>\n",
        "</font>"
      ]
    },
    {
      "cell_type": "markdown",
      "id": "f3c0c929",
      "metadata": {
        "id": "f3c0c929"
      },
      "source": [
        "<hr style=\"border:10px solid black\">"
      ]
    },
    {
      "cell_type": "markdown",
      "id": "9645913b",
      "metadata": {
        "id": "9645913b"
      },
      "source": [
        "<h2>Trade Facilitation Through Limit Order Books</h2>\n",
        "<br>\n",
        "<font size=\"+1\">\n",
        "    <ul>\n",
        "        <li>People utilize these marketplaces by trading with one another through a <b>limit order book</b>.</li>\n",
        "        <br>\n",
        "        <ul>\n",
        "            <li>A limit order book is a <b>list of orders</b> that a trading venue, such as the New York Stock Exchange (NYSE), uses to record the interest of buyers and sellers in a particular financial asset.</li>\n",
        "            <br>\n",
        "            <li>The limit order book allows <i>impatient</i> traders to trade immediately, and allows <i>patient</i> traders to post an order and wait for a better price.</li>\n",
        "            <br>\n",
        "            <li>Orders to trade immediately are called <b>market orders</b>. Orders\n",
        "                to wait until the desired price is reached (if ever) are called <b>limit orders</b>.</li>\n",
        "            <br>\n",
        "            <ul>\n",
        "                <li>Impatient traders use market orders.</li>\n",
        "                <br>\n",
        "                <li>Patient traders use limit orders.</li>\n",
        "                <br>\n",
        "                <li>Market and limit orders will be discussed more in the follwing sections.</li>\n",
        "                <br>\n",
        "            </ul>\n",
        "        </ul>\n",
        "        <li>When orders are placed inside this marketplace, the limit order book must get updated.</li>\n",
        "        <br>\n",
        "        <li>Specifically, orders arrive with a time (arrival time), a quantity (how many shares are traded), a price (which you are willing to trade at),  and a side of the market (<b style=\"color:green\">buy side</b> or <b style=\"color:red\">sell side</b>).</li>\n",
        "        <br>\n",
        "        <ul>\n",
        "            <li>In general, orders can include very complicated instructions as well, but we will not get into these details here.</li>\n",
        "            <br>\n",
        "        </ul>\n",
        "        <li>The following image is a record of order data that arrives in the marketplace when people want to transact.</li>\n",
        "        <br>\n",
        "        <li><img src=\"https://www.machow.ski/intro_to_orderbooks/ob_anatomy.png\"></li>\n",
        "        <br>\n",
        "        <li>The following image is a more appealing way to visualize limit order books in a horizontal format. As limit orders arrive they are added to the back of the queue (line) at the price specified in the order.</li>\n",
        "        <br>\n",
        "        <li><img src=\"https://www.researchgate.net/profile/Joaquin-Fernandez-Tapia/publication/284900784/figure/fig3/AS:652208416763906@1532510012149/Graphical-representation-of-the-Limit-Order-Book.png\"></li>\n",
        "        <br>\n",
        "        <li>The following image is a more appealing way to visualize limit order books in a vertical format. As limit orders arrive they are added to the back of the queue (line) at the price specified in the order.</li>\n",
        "        <br>\n",
        "        <li><img src=\"https://s3.amazonaws.com/quantstartmedia/images/qs-imanol-hft-lob-lob.jpg\"></li>\n",
        "        <br>\n",
        "    </ul>\n",
        "</font>"
      ]
    },
    {
      "cell_type": "markdown",
      "id": "c7de9f4e",
      "metadata": {
        "id": "c7de9f4e"
      },
      "source": [
        "<hr style=\"border:10px solid black\">"
      ]
    },
    {
      "cell_type": "markdown",
      "id": "db1812dd",
      "metadata": {
        "id": "db1812dd"
      },
      "source": [
        "<h2>Limit Order Books and Their Matching Engines</h2>\n",
        "<br>\n",
        "<font size=\"+1\">\n",
        "    <ul>\n",
        "        <li>Many markets arrange their trades, i.e. facilitate their trades, by using a set of rules to match submitted buy and sell orders.</li>\n",
        "        <br>\n",
        "        <li>To understand how these markets work, you have to understand how orders are specified, specifically you need to know what a market order and a limit order is.</li>\n",
        "        <br>\n",
        "    </ul>\n",
        "</font>"
      ]
    },
    {
      "cell_type": "markdown",
      "id": "a4e1649c",
      "metadata": {
        "id": "a4e1649c"
      },
      "source": [
        "<h3>Order Types</h3>\n",
        "<br>\n",
        "<font size=\"+1\">\n",
        "    <ul>\n",
        "        <li>For simplicity, we will assume there are only two types of orders a user can place on the exchange, a <b>market order</b> and <b>limit order</b>, and the only actions a user can do to manage their orders are <b>cancel</b> them or <b>submit</b> them to the exchange at a desired price and quantity.</li>\n",
        "        <br>\n",
        "        <ul>\n",
        "            <li>In practice, there are many complex or exotic order types that vary by exchange; there are also many ways to manage orders using various conditional statements, but we will ignore these in this case study.</li>\n",
        "            <br>\n",
        "        </ul>\n",
        "        <li>A limit order is an instruction to your broker that limits the prices that you are willing to accept for a given quantity that you want to buy or sell. It will typically take some time to fill this order, if it ever gets filled.</li>\n",
        "        <br>\n",
        "        <li>A market order is an instruction to your broker to buy or sell at the best price currently available in the market. This will always execute, though typically at less favorable (sometimes far less) favorable prices than a limit order.</li>\n",
        "        <br>\n",
        "        <li>So there is a trade off:</li>\n",
        "        <br>\n",
        "        <ul>\n",
        "            <li>use a market order and pay a worse price but be sure your order will be filled quickly,</li>\n",
        "            <br>\n",
        "            <li>or use a limit order and pay a better price but with some uncertainty around when your order will get filled, or even if your order will get filled at all.</li>\n",
        "            <br>\n",
        "        </ul>\n",
        "        <li>In summary,</li>\n",
        "        <br>\n",
        "        <ul>\n",
        "            <li>there are two types of orders the buyers (sellers) can submit: a limit buy (sell) order with a preferred price for a given volume of the asset, or a market buy (sell) order with a given volume which will be immediately executed with the best available limit sell (buy) orders.</li>\n",
        "            <br>\n",
        "            <li>Therefore, limit orders have a price guarantee but are not guaranteed to be executed, whereas market orders are executed immediately at the best available price, which might not always be the most favorable.</li>\n",
        "            <br>\n",
        "            <li>The lowest price of all limit sell orders is called the ask price, and the highest price of all limit buy orders is called the bid price.</li>\n",
        "            <br>\n",
        "            <li>The difference between the ask price and bid price is known as the spread and the average of the ask price and bid price is known as the mid price.</li>\n",
        "            <br>\n",
        "        </ul>\n",
        "    </ul>\n",
        "</font>"
      ]
    },
    {
      "cell_type": "markdown",
      "id": "e3bbc2b1",
      "metadata": {
        "id": "e3bbc2b1"
      },
      "source": [
        "<h3>Price-Time Priority Policy</h3>\n",
        "<br>\n",
        "<font size=\"+1\">\n",
        "    <ul>\n",
        "        <li>A matching engine (i.e. exchange) uses the LOB to store pending orders and match them with the incoming buy and sell orders.</li>\n",
        "        <br>\n",
        "        <li>This typically follows the price-time priority rule, whereby</li>\n",
        "        <br>\n",
        "        <ul>\n",
        "            <li>orders are first ranked according to their price,</li>\n",
        "            <br>\n",
        "            <li>and multiple orders having the same price are then ranked according to the time they were submitted.</li>\n",
        "            <br>\n",
        "        </ul>\n",
        "        <li>So if an order arrives to buy/sell, and it is the best price to buy/sell, it will be given priority and ranked highest for the buy/sell side. If an order comes in at an existing price, then it will be given priority according to its arrival time in the queue (line) for that price, meaning the order goes to the \"back of the line\" at the given price.</li>\n",
        "        <br>\n",
        "        <li>This matching policy is what makes the state of the order book change over time.</li>\n",
        "        <br>\n",
        "        <li>The first image below is a snapshot of a limit order book at a fixed point in time.</li>\n",
        "        <br>\n",
        "        <li>The second image below is an order book whose state is changing by orders being filled according to the price-time priority policy.</li>\n",
        "        <br>\n",
        "    </ul>\n",
        "</font>"
      ]
    },
    {
      "cell_type": "markdown",
      "id": "b905f3b1",
      "metadata": {
        "id": "b905f3b1"
      },
      "source": [
        "<img src=\"https://www.tradientblog.com/img/lob/lob_binance.png\">"
      ]
    },
    {
      "cell_type": "markdown",
      "id": "3238a933",
      "metadata": {
        "id": "3238a933"
      },
      "source": [
        "<img src=\"https://www.oxford-man.ox.ac.uk/wp-content/uploads/2021/05/Interactive-image.gif\">"
      ]
    },
    {
      "cell_type": "markdown",
      "id": "39b2465d",
      "metadata": {
        "id": "39b2465d"
      },
      "source": [
        "<h2>Fill Probabilities, Expected Fill Time, and Slippage</h2>\n",
        "<br>\n",
        "<font size=\"+1\">\n",
        "    <ul>\n",
        "        <li>Assume traders place <b>limit orders</b> to buy stock at bid price or sell stock at the ask price.</li>\n",
        "        <br>\n",
        "        <ul>\n",
        "            <li>That is, they want to trade at more favorable prices, and so they choose to use a limit order.</li>\n",
        "            <br>\n",
        "            <li>Limit orders can be risky because the order might not get filled, or it can get filled at unfavorable times.</li>\n",
        "        <br>\n",
        "            <li>In other words, limit orders take a random time to be filled, if they ever get filled.</li>\n",
        "            <br>\n",
        "        </ul>\n",
        "        <li>Each time an order is placed, we would like to know how the filled price, that is, the price when filled, differs from some benchmark price, such as the mid-price. This difference between filled prices and benchmark prices is known as <b>implementation shortfall</b> or <b>slippage</b>.</li>\n",
        "        <br>\n",
        "        <li>You are to simulate $10,000$ fill times for limit orders and compute some important measures related to <b>fill times</b> and <b>slippage estimates</b>.</li>\n",
        "        <br>\n",
        "        <ul>\n",
        "            <li>Specifically, assume the behavior of limit orders (that buy at the bid price or sell at the ask price) are the same.</li>\n",
        "            <br>\n",
        "            <li>Further, assume the fill time for limit orders is <a href=\"https://numpy.org/doc/stable/reference/random/generated/numpy.random.Generator.exponential.html\">exponentially distributed</a> with a scale parameter which is also a random number that is <a href=\"https://numpy.org/doc/stable/reference/random/generated/numpy.random.Generator.uniform.html\">uniformly distributed</a> from the interval $[0, 20]$.</li>\n",
        "            <br>\n",
        "            <li>Assume the time it takes to fill a limit order has units in <b>minutes</b>.</li>\n",
        "            <br>\n",
        "            <li>Then, for every limit order, assume the <b>slippage</b> is a random number that depends on the time it takes for the order to be filled.</li>\n",
        "            <br>\n",
        "            <ul>\n",
        "                <li>Specifically, if the time to fill a limit order is longer than $15$ minutes, then the slippage will be normally distributed with a conditional mean of $5$ and standard deviation of $4$.</li>\n",
        "                <br>\n",
        "                <li>If the time to fill a limit order is less than or equal to $15$ minutes, then the slippage will be normally distributed with a conditional mean of $3$ and a standard deviation of $2$.</li>\n",
        "                <br>\n",
        "            </ul>\n",
        "        </ul>\n",
        "        <li> Compute some important statistics such as:</li>\n",
        "        <br>\n",
        "        <ul>\n",
        "            <li>the average (expected) fill time of the limit orders,</li>\n",
        "            <br>\n",
        "            <li>the average fill time when it takes less than or equal to $15$ minutes for an order to be filled,</li>\n",
        "            <br>\n",
        "            <li>the chance that the limit order fill times are less than or equal to $15$ minutes,</li>\n",
        "            <br>\n",
        "            <li>the average slippage for all limit orders,</li>\n",
        "            <br>\n",
        "            <li>the average slippage when the fill time is less than or equal to $15$ minutes, i.e. when the order gets filled quickly,</li>\n",
        "            <br>\n",
        "            <li>the average slippage when the fill time is greater than $15$ minutes, i.e. when the order takes a longer time to get filled,</li>\n",
        "            <br>\n",
        "            <li>the average slippage when the slippage is less than zero (this is what all brokers are supposed to strive for),</li>\n",
        "            <br>\n",
        "            <li>and finally, the chance that slippage is less than zero.</li>\n",
        "            <br>\n",
        "       \n",
        "</font>"
      ]
    },
    {
      "cell_type": "code",
      "execution_count": null,
      "id": "f0998d58",
      "metadata": {
        "id": "f0998d58"
      },
      "outputs": [],
      "source": [
        "import numpy as np\n",
        "import pandas as pd\n",
        "rng = np.random.default_rng(seed = 42) "
      ]
    },
    {
      "cell_type": "code",
      "execution_count": null,
      "id": "1dc834b6",
      "metadata": {
        "id": "1dc834b6",
        "colab": {
          "base_uri": "https://localhost:8080/"
        },
        "outputId": "2050d311-df1d-477a-d50e-5de71399256c"
      },
      "outputs": [
        {
          "output_type": "execute_result",
          "data": {
            "text/plain": [
              "array([ 3.27891976,  8.14740098,  3.81159751, ...,  0.74723802,\n",
              "       -4.47104948,  6.40185333])"
            ]
          },
          "metadata": {},
          "execution_count": 50
        }
      ],
      "source": [
        "#create a distribution for filltime using rng and put in into a numpy array\n",
        "filltime = rng.exponential(scale = rng.uniform(0,20,10_000))\n",
        "filltime = np.array(filltime)\n",
        "#create a list for slippage \n",
        "slippage = []\n",
        "#iterate it through the filltime array created above \n",
        "for t in filltime:\n",
        "  if t > 15:\n",
        "    slippage.append(rng.normal(5,4))\n",
        "  else: \n",
        "    slippage.append(rng.normal(3,2))\n",
        "#transfer the slippage list into a numpy array \n",
        "slippage = np.array(slippage)\n",
        "slippage"
      ]
    },
    {
      "cell_type": "code",
      "execution_count": null,
      "id": "773a2d93",
      "metadata": {
        "id": "773a2d93",
        "colab": {
          "base_uri": "https://localhost:8080/"
        },
        "outputId": "36cb27d1-03cf-4f53-a4ec-b3d7106877f2"
      },
      "outputs": [
        {
          "output_type": "execute_result",
          "data": {
            "text/plain": [
              "9.97881957238142"
            ]
          },
          "metadata": {},
          "execution_count": 51
        }
      ],
      "source": [
        "#the average (expected) fill time of the limit orders\n",
        "filltime.mean()\n"
      ]
    },
    {
      "cell_type": "code",
      "source": [
        "#the average fill time when it takes less than or equal to $15$ minutes for an order to be filled\n",
        "filltime[np.where(filltime <= 15)].mean()"
      ],
      "metadata": {
        "colab": {
          "base_uri": "https://localhost:8080/"
        },
        "id": "Ub8sAf2vLjze",
        "outputId": "db241bf6-954f-4752-a350-6855164180bc"
      },
      "id": "Ub8sAf2vLjze",
      "execution_count": null,
      "outputs": [
        {
          "output_type": "execute_result",
          "data": {
            "text/plain": [
              "4.653708212960324"
            ]
          },
          "metadata": {},
          "execution_count": 52
        }
      ]
    },
    {
      "cell_type": "code",
      "source": [
        "#the chance that the limit order fill times are less than or equal to $15$ minutes\n",
        "(filltime <= 15).sum()/len(filltime)"
      ],
      "metadata": {
        "colab": {
          "base_uri": "https://localhost:8080/"
        },
        "id": "WqbFFaTkE5ty",
        "outputId": "243822d2-16e3-4832-d679-f9faedc3bed9"
      },
      "id": "WqbFFaTkE5ty",
      "execution_count": null,
      "outputs": [
        {
          "output_type": "execute_result",
          "data": {
            "text/plain": [
              "0.783"
            ]
          },
          "metadata": {},
          "execution_count": 53
        }
      ]
    },
    {
      "cell_type": "code",
      "execution_count": null,
      "id": "843d88ad",
      "metadata": {
        "id": "843d88ad",
        "colab": {
          "base_uri": "https://localhost:8080/"
        },
        "outputId": "0a5491b4-cc96-4a8b-a772-04dd35e37a5f"
      },
      "outputs": [
        {
          "output_type": "execute_result",
          "data": {
            "text/plain": [
              "3.4727075223786406"
            ]
          },
          "metadata": {},
          "execution_count": 54
        }
      ],
      "source": [
        "#the average slippage for all limit orders\n",
        "slippage.mean()"
      ]
    },
    {
      "cell_type": "code",
      "source": [
        "#the average slippage when the fill time is less than or equal to $15$ minutes, i.e. when the order gets filled quickly,\n",
        "slippage[np.where(filltime <= 15)].mean()\n"
      ],
      "metadata": {
        "colab": {
          "base_uri": "https://localhost:8080/"
        },
        "id": "f9JghFLRMX8E",
        "outputId": "382214ac-884e-42dd-c2fd-d65f71b326dc"
      },
      "id": "f9JghFLRMX8E",
      "execution_count": null,
      "outputs": [
        {
          "output_type": "execute_result",
          "data": {
            "text/plain": [
              "3.041369250169692"
            ]
          },
          "metadata": {},
          "execution_count": 55
        }
      ]
    },
    {
      "cell_type": "code",
      "source": [
        "#the average slippage when the fill time is greater than $15$ minutes, i.e. when the order takes a longer time to get filled,\n",
        "slippage[np.where(filltime > 15)].mean()"
      ],
      "metadata": {
        "colab": {
          "base_uri": "https://localhost:8080/"
        },
        "id": "jmK_QYsOR_uy",
        "outputId": "13863842-7f7c-4418-ba58-0420a4c293b6"
      },
      "id": "jmK_QYsOR_uy",
      "execution_count": null,
      "outputs": [
        {
          "output_type": "execute_result",
          "data": {
            "text/plain": [
              "5.029103223482822"
            ]
          },
          "metadata": {},
          "execution_count": 56
        }
      ]
    },
    {
      "cell_type": "code",
      "execution_count": null,
      "id": "4bd85865",
      "metadata": {
        "id": "4bd85865",
        "colab": {
          "base_uri": "https://localhost:8080/"
        },
        "outputId": "7c0b6d4b-cc34-43bb-c9a8-97a6e7ca8db7"
      },
      "outputs": [
        {
          "output_type": "execute_result",
          "data": {
            "text/plain": [
              "-1.1811323916283012"
            ]
          },
          "metadata": {},
          "execution_count": 57
        }
      ],
      "source": [
        "#the average slippage when the slippage is less than zero (this is what all brokers are supposed to strive for)\n",
        "slippage[np.where(slippage<0)].mean()"
      ]
    },
    {
      "cell_type": "code",
      "source": [
        "#the chance that slippage is less than zero.\n",
        "(slippage <0).sum()/len(slippage)"
      ],
      "metadata": {
        "colab": {
          "base_uri": "https://localhost:8080/"
        },
        "id": "eT7rQEBDMW6d",
        "outputId": "2820204d-b793-4809-851f-2fbc832d567c"
      },
      "id": "eT7rQEBDMW6d",
      "execution_count": null,
      "outputs": [
        {
          "output_type": "execute_result",
          "data": {
            "text/plain": [
              "0.0733"
            ]
          },
          "metadata": {},
          "execution_count": 58
        }
      ]
    },
    {
      "cell_type": "markdown",
      "id": "a783f743",
      "metadata": {
        "id": "a783f743"
      },
      "source": [
        "<h2>Implementation Shortfall</h2>\n",
        "<br>\n",
        "<font size=\"+1\">\n",
        "    <ul>\n",
        "        <li>Consider a simplified trading problem faced by all capital market participants, large and small.</li>\n",
        "        <br>\n",
        "        <li>Assume you want to <b>buy</b> a stock because you believe it is a favorable investment.</li>\n",
        "        <br>\n",
        "        <li>At the time you decide you want to buy the stock, the limit order book has a bid price (i.e. highest price people are willing to buy) of $\\$10$ and an ask price (i.e. the lowest price people are willing to sell) of $\\$12$. In other words, people are willing to buy the stock at $10$ and sell the stock at $12$. The mid-price (by definition is the midpoint between the bid and the ask) is therefore $\\$11$.</li>\n",
        "            <br>\n",
        "        <li>You must choose one of two possible choices:</li>\n",
        "        <br>\n",
        "        <ul>\n",
        "            <li>to transact (buy) now at the ask price using a market order,</li>\n",
        "            <br>\n",
        "            <li>or to place a limit order at the bid price and wait some period of time, say $15$ minutes, to see if your order gets filled,</li>\n",
        "            <br>\n",
        "            <ul>\n",
        "                <li>note that we can assume the order getting filled is a two outcome random variable (i.e. Filled or Not Filled),</li>\n",
        "                <br>\n",
        "                <li>if you placed a limit order and it gets filled in the period you decided to wait ($15$ minutes), then your order will get filled at the current bid price,</li>\n",
        "                <br>\n",
        "                <li>if you placed a limit order and it didn't get filled in the period you decided to wait ($15$ minutes), you will place a market order at the ask price $15$ minutes after you placed your limit order; this is referred to as a <i>clean-up market order</i>.</li>\n",
        "                <br>\n",
        "                <li>After you cancel your limit order and place the clean-up market order, assume the price you pay will be uniformly distributed with a low value of the mid price and a high value of the ask price plus $0.25$ times the time you decide to wait to place a clean-up market order (in this example it will be $0.25 \\times 15$).</li>\n",
        "                <br>\n",
        "                <li>Because prices change (vary) over time, you must take into account the probability of your order being filled if you choose to use a limit order at the bid price, and how the price might change when you use a clean-up market order if your order doesn't get filled.</li>\n",
        "                <br>\n",
        "            </ul>\n",
        "        </ul>\n",
        "        <li>To measure the quality of your decision, you are to compute a metric called the <b>implementation shortfall</b> (i.e. <b>slippage</b>) which we will define as the difference between the price you pay when your order gets filled and the mid-price; slippage depends on the order you decide to use and it is a number we want to be small, in general.</li>\n",
        "        <br>\n",
        "        <li>Depending on the order type, the implementation shortfall will be</li>\n",
        "        <br>\n",
        "        <ul>\n",
        "            <li>in the case of using a current market order, the implementation shortfall will be $P_0^{ask} - P_0^{mid}= \\text{ask price} - \\text{mid price}$, which is $12 - 11$ in the running example,</li>\n",
        "            <br>\n",
        "            <li>in the case of using a limit order at the bid price, you have two cases depending on a random simulation of if your limit order gets filled or not (i.e. a two outcome random variable):</li>\n",
        "            <br>\n",
        "            <ul>\n",
        "                <li>if the order gets filled in the prescribed wait time ($15$ minutes) then the implementation shortfall will be $P_0^{bid} - P_0^{mid}= \\text{bid price} - \\text{mid price}$, which is $10 - 11$ in the running example,</li>\n",
        "                    <br>\n",
        "                <li>if the order does not get filled in the prescribed wait time ($15$ minutes) then the implementation shortfall will be $P_{15}^{ask} - P_0^{mid}= \\text{ask price 15 mins later} - \\text{mid price}$, which is assumed to be $\\text{Uniform}(\\text{low} = \\text{mid price}, \\ \\text{high} = \\text{ask price }+ (0.25)\\text{wait time}) - 11$, where the wait time is $15$ in the running example - hint: rng.uniform(mid_price, ask_price+(0.25*wait_time)) - mid_price.</li>\n",
        "                    <br>\n",
        "            </ul>\n",
        "        </ul>\n",
        "        <li>To get an accurate estimate of shortfall, simulate a number of limit order scenarios and estimate the shortfall averaged over all of the simulations.</li>\n",
        "        <br>\n",
        "        <li>For simplicity, assume the quantity you want to buy is sufficiently small so that there are no effects of price impact on your optimal order decision. That is, assume the market for security is sufficiently liquid.</li>\n",
        "        <br>\n",
        "</font>"
      ]
    },
    {
      "cell_type": "code",
      "execution_count": null,
      "id": "d7906280",
      "metadata": {
        "id": "d7906280"
      },
      "outputs": [],
      "source": [
        "rng = np.random.default_rng(seed=42)\n",
        "#create a function for optimal buy order\n",
        "def optimal_buy_order (bid_price, ask_price, wait_time, fill_prob_in_wait_time, num_simulations):\n",
        "#set up mid-price based on bid and ask price\n",
        "    mid_price = (bid_price + ask_price)/2\n",
        "#create a dictionary for slippage, assign the variable to slippage based off mid and ask price and put that into the dictionary \n",
        "    slippage = {}    \n",
        "    initial_market_order_slippage = ask_price - mid_price\n",
        "    slippage['initial_market_order_slippage'] = initial_market_order_slippage\n",
        "#create a separate list for estimated slippage \n",
        "    est_slippage = []\n",
        "#interate it over the number of simulations \n",
        "    for order in range(num_simulations):\n",
        "#create a distribution for order fill using rng.choice \n",
        "        options_for_filled = ['Filled', 'Not Filled']\n",
        "        order_fill = rng.choice(options_for_filled, p = [fill_prob_in_wait_time, 1- fill_prob_in_wait_time])\n",
        "        \n",
        "#assign conditions to each possibility \n",
        "        if order_fill == 'Filled':\n",
        "            est_slippage.append(bid_price - mid_price)\n",
        "        else:\n",
        "            est_slippage.append(rng.uniform(mid_price, ask_price+(0.25*wait_time)) - mid_price)\n",
        " #put in into numpy array and calculate the mean        \n",
        "        slippage_est_np = np.array(est_slippage)\n",
        "        average_limit_order_slippage = slippage_est_np.mean()\n",
        " #put the average calculations into the dictionary    \n",
        "    slippage['average_limit_order_slippage'] = average_limit_order_slippage\n",
        " #return final dictionary    \n",
        "    return slippage"
      ]
    },
    {
      "cell_type": "code",
      "source": [
        "optimal_buy_order(bid_price=10, ask_price=12, wait_time=8, fill_prob_in_wait_time=0.2, num_simulations=10_000) "
      ],
      "metadata": {
        "colab": {
          "base_uri": "https://localhost:8080/"
        },
        "id": "aXRyvupObnDy",
        "outputId": "5ecbd2d7-6788-4fd2-80fd-2a5222d69ab5"
      },
      "id": "aXRyvupObnDy",
      "execution_count": null,
      "outputs": [
        {
          "output_type": "execute_result",
          "data": {
            "text/plain": [
              "{'initial_market_order_slippage': 1.0,\n",
              " 'average_limit_order_slippage': 0.9884036474082525}"
            ]
          },
          "metadata": {},
          "execution_count": 60
        }
      ]
    },
    {
      "cell_type": "code",
      "source": [
        "optimal_buy_order(bid_price=10, ask_price=12, wait_time=4, fill_prob_in_wait_time=0.2, num_simulations=10_000)"
      ],
      "metadata": {
        "colab": {
          "base_uri": "https://localhost:8080/"
        },
        "id": "MGEFy382h28F",
        "outputId": "e1533788-ab85-4fcf-8db0-b7968f70868b"
      },
      "id": "MGEFy382h28F",
      "execution_count": null,
      "outputs": [
        {
          "output_type": "execute_result",
          "data": {
            "text/plain": [
              "{'initial_market_order_slippage': 1.0,\n",
              " 'average_limit_order_slippage': 0.6058792816131938}"
            ]
          },
          "metadata": {},
          "execution_count": 61
        }
      ]
    },
    {
      "cell_type": "code",
      "source": [
        "optimal_buy_order(bid_price=10, ask_price=12, wait_time=15, fill_prob_in_wait_time=0.2, num_simulations=10_000)"
      ],
      "metadata": {
        "colab": {
          "base_uri": "https://localhost:8080/"
        },
        "id": "OmWxq3RVh9Sw",
        "outputId": "a607db6b-1b7d-45a1-ff12-f72cddd51033"
      },
      "id": "OmWxq3RVh9Sw",
      "execution_count": null,
      "outputs": [
        {
          "output_type": "execute_result",
          "data": {
            "text/plain": [
              "{'initial_market_order_slippage': 1.0,\n",
              " 'average_limit_order_slippage': 1.7006321138565588}"
            ]
          },
          "metadata": {},
          "execution_count": 62
        }
      ]
    },
    {
      "cell_type": "markdown",
      "id": "4e41f98e",
      "metadata": {
        "id": "4e41f98e"
      },
      "source": [
        "<h2>Initialize a Limit Order Book</h2>\n",
        "<font size=\"+1\">\n",
        "    <ul>\n",
        "        <br>\n",
        "        <li>Formulate a function that initializes an simplified limit order book.</li>\n",
        "        <br>\n",
        "        <ul>\n",
        "            <li>Assume, for simplicity, that limit order books are only one level deep, that is, there is only one price at which you can buy (called the bid price) and only one price at which you can sell (called the ask price).</li>\n",
        "            <br>\n",
        "            <li>At the bid price, there should be a line (queue) of quantities that represent the number of shares that people want to buy at the bid price.</li>\n",
        "            <br>\n",
        "            <li>At the ask price, there should be a line (queue) of quantities that represent the number of shares that people want to sell at the ask price.</li>\n",
        "            <br>\n",
        "        </ul>\n",
        "        <li>Additionally, using the initialized limit order book, compute the total liquidity, that is the sum of all the quantities ordered, at the bid price and the ask price.</li>\n",
        "</font>"
      ]
    },
    {
      "cell_type": "code",
      "execution_count": null,
      "id": "253e3080",
      "metadata": {
        "id": "253e3080"
      },
      "outputs": [],
      "source": [
        "rng = np.random.default_rng(seed = 42)\n",
        "#create an empty dictionary\n",
        "order_book = {}\n",
        "#create a function for limit order book\n",
        "def initialize_limit_order_book(bid_price, bid_queue, ask_price, ask_queue):\n",
        "#put all variables into the dictionary\n",
        "  order_book = {'sells': None, 'buys': None}\n",
        "  order_book['buys'] = {bid_price: bid_queue}\n",
        "  order_book['sells'] = {ask_price: ask_queue}\n",
        "  return order_book"
      ]
    },
    {
      "cell_type": "code",
      "execution_count": null,
      "id": "f78b711c",
      "metadata": {
        "id": "f78b711c",
        "colab": {
          "base_uri": "https://localhost:8080/"
        },
        "outputId": "73e672c7-33c7-4e7a-bd8a-1885ace3807d"
      },
      "outputs": [
        {
          "output_type": "execute_result",
          "data": {
            "text/plain": [
              "{'sells': {12: array([21,  6,  3, 16, 29, 22, 23, 21, 23, 15])},\n",
              " 'buys': {10: array([ 3, 23, 19, 13, 13, 25,  3])}}"
            ]
          },
          "metadata": {},
          "execution_count": 64
        }
      ],
      "source": [
        "order_book2 = initialize_limit_order_book(bid_price=10, bid_queue=rng.integers(1, 30, size=7), ask_price=12, ask_queue=rng.integers(1,30, size=10))\n",
        "order_book2"
      ]
    },
    {
      "cell_type": "code",
      "execution_count": null,
      "id": "d80e9a94",
      "metadata": {
        "id": "d80e9a94"
      },
      "outputs": [],
      "source": [
        "#calculate the total liquidity \n",
        "total_liquidity_at_bid = np.sum(list(order_book2['buys'].values()))\n",
        "total_liquidity_at_ask = np.sum(list(order_book2['sells'].values()))"
      ]
    },
    {
      "cell_type": "code",
      "execution_count": null,
      "id": "9f7c04f4",
      "metadata": {
        "id": "9f7c04f4",
        "colab": {
          "base_uri": "https://localhost:8080/"
        },
        "outputId": "a62b310e-be73-4a75-b15e-32dc7ecea576"
      },
      "outputs": [
        {
          "output_type": "execute_result",
          "data": {
            "text/plain": [
              "99"
            ]
          },
          "metadata": {},
          "execution_count": 66
        }
      ],
      "source": [
        "total_liquidity_at_bid"
      ]
    },
    {
      "cell_type": "code",
      "execution_count": null,
      "id": "8659a130",
      "metadata": {
        "id": "8659a130",
        "colab": {
          "base_uri": "https://localhost:8080/"
        },
        "outputId": "e5a23b02-43d4-4ac0-d165-89a435afdda2"
      },
      "outputs": [
        {
          "output_type": "execute_result",
          "data": {
            "text/plain": [
              "179"
            ]
          },
          "metadata": {},
          "execution_count": 67
        }
      ],
      "source": [
        "total_liquidity_at_ask"
      ]
    },
    {
      "cell_type": "markdown",
      "id": "8c5a49e8",
      "metadata": {
        "id": "8c5a49e8"
      },
      "source": [
        "<h2>Order Flow Simulation</h2>\n",
        "<br>\n",
        "<font size=\"+1\">\n",
        "    <ul>\n",
        "        <li>Assume there are only four possible orders that can enter the market:</li>\n",
        "        <br>\n",
        "        <ul>\n",
        "            <li>\"Market-Bid\", which refers to a market order placed at the bid price (this order would be placed by someone who wants to sell stock now at the bid price),</li>\n",
        "            <br>\n",
        "            <li>\"Market-Ask\", which refers to a market order placed at the ask price (this order would be placed by someone who wants to buy stock now at the ask price),</li>\n",
        "            <br>\n",
        "            <li>\"Limit-Bid\", which refers to a limit order placed at the bid price (this order would be placed by someone who wants to buy at a more favorable price and is willing to wait to achieve that favorable bid price),</li>\n",
        "            <br>\n",
        "            <li>\"Limit-Ask\", which refers to a limit order placed at the ask price (this order would be placed by someone who wants to sell at a more favorable price and is willing to wait to achieve that favorable ask price).</li>\n",
        "            <br>\n",
        "            <li>These four order types can be decomposed into the form: <i style=\"color:blue\">order_type + \"-\" + side_of_market</i>, where order type refers to a limit or a market order and the side of the market refers to the bid price or the ask price.</li>\n",
        "            <br>\n",
        "        </ul>\n",
        "        <li>Incoming orders (i.e. order flow) can be influenced by the current state of the limit order book.</li>\n",
        "        <br>\n",
        "        <ul>\n",
        "            <li>In particular, assume that the particular order being placed is <a href=\"https://finance.zacks.com/can-tell-direction-stock-price-looking-bid-vs-ask-volume-2758.html\">influenced by the <b>total liquidity</b> at the bid price and the ask price</a>, where <b>total liquidity</b> refers to the sum of all the order quantities in the limit order book at the bid price or at the ask price, respectively.</li>\n",
        "            <br>\n",
        "            <li>Specifically, assume the following three scenarios that determine the order flow (i.e. incoming order)</li>\n",
        "            <br>\n",
        "            <ul>\n",
        "                <li>if the total liquidity at the bid price is less than the total liquidity at the ask price (this would signal more people want to sell and it is likely that the price will go down), then the order type will be either a market or limit order with a probability of a market order being the (total liquidity at the ask / (sum of the total liquidity at the bid and the ask))</li>\n",
        "                <br>\n",
        "                <ul>\n",
        "                    <li>in this particular scenario ($\\text{total_liquidity_at_bid} < \\text{total_liquidity_at_ask}$), if there is a market order, then the specific order type should be a market-bid since people will sell, otherwise it should be a limit-ask since more people will line up to sell,</li>\n",
        "                    <br>\n",
        "                    <li>assume the order quantity to be a random integer between $1$ and $15$</li>\n",
        "                    <br>\n",
        "            </ul>\n",
        "            <li>if the total liquidity at the bid price is greater than the total liquidity at the ask price (this would signal more people want to buy and it is likely that the price will go up), then the order type will be either a market or limit order with a probability of a market order being the (total liquidity at the bid / (sum of the total liquidity at the bid and the ask))</li>\n",
        "            <br>\n",
        "            <ul>\n",
        "                <li>in this particular scenario ($\\text{total_liquidity_at_bid} > \\text{total_liquidity_at_ask}$), if there is a market order, then the specific order type should be a market-ask since people will buy, otherwise it should be a limit-bid since more people will line up to buy,</li>\n",
        "                <br>\n",
        "                <li>assume the order quantity to be a random integer between $1$ and $15$</li>\n",
        "                <br>\n",
        "            </ul>\n",
        "            <li>in the final case where the total liquidity at the bid price equals the total liquidity at the ask price (this would not have any signal about if more people want to buy or sell), then the order type will be either a market or limit order with a probability of a market order being $0.5$ (equal chance of being limit or market order)</li>\n",
        "                <br>\n",
        "                <ul>\n",
        "                    <li>in this particular scenario ($\\text{total_liquidity_at_bid} == \\text{total_liquidity_at_ask}$), the specific order type can be anything, in which case you should also randomly choose (with equal probabilities) if it is at the bid or ask price,</li>\n",
        "                    <br>\n",
        "                    <li>assume the order quantity to be a random integer between $1$ and $15$ in all scenarios </li>\n",
        "                    <br>\n",
        "\n",
        "</font>"
      ]
    },
    {
      "cell_type": "code",
      "execution_count": null,
      "id": "881a53c7",
      "metadata": {
        "id": "881a53c7"
      },
      "outputs": [],
      "source": [
        "rng = np.random.default_rng(seed = 42)\n",
        "#create the function order flow \n",
        "def order_flow(limit_order_book):\n",
        "#assign a variable to calculate the total liquidity at bid and ask price \n",
        "  total_liquidity_at_bid = limit_order_book['buys'][list(limit_order_book['buys'].keys())[0]].sum()\n",
        "  total_liquidity_at_ask = limit_order_book['sells'][list(limit_order_book['sells'].keys())[0]].sum()\n",
        "#assign order types \n",
        "  order_types = ['Market', 'Limit']\n",
        "#create an empty string for answer \n",
        "  answer = ''\n",
        "#create an empty list for probability \n",
        "  probability = []\n",
        "#assign conditions when total liquidity at bid < at ask \n",
        "  if total_liquidity_at_bid < total_liquidity_at_ask:\n",
        "    probability.append(total_liquidity_at_ask / (total_liquidity_at_ask + total_liquidity_at_bid))\n",
        "    probability.append(1 - total_liquidity_at_ask / (total_liquidity_at_ask + total_liquidity_at_bid))\n",
        "    order_type = rng.choice(order_types, 1, p = probability)[0]\n",
        "    quantity = rng.integers(1, 15)\n",
        "#assign conditions based on order type \n",
        "    if order_type == 'Market':\n",
        "      answer = order_type + '-Bid'\n",
        "      return answer, quantity\n",
        "    else:\n",
        "      answer = order_type + '-Ask'\n",
        "      return answer, quantity\n",
        "#assign conditions when total liquidity at bid > at ask \n",
        "  elif total_liquidity_at_bid > total_liquidity_at_ask:\n",
        "    probability.append(total_liquidity_at_bid / (total_liquidity_at_ask + total_liquidity_at_bid))\n",
        "    probability.append(1 - total_liquidity_at_bid / (total_liquidity_at_ask + total_liquidity_at_bid))\n",
        "    order_type = rng.choice(order_types, 1, p = probability)[0]\n",
        "    quantity = rng.integers(1, 15)\n",
        "    if order_type == 'Market':\n",
        "      answer = order_type + '-Ask'\n",
        "      return answer, quantity\n",
        "    else:\n",
        "      answer = order_type + '-Bid'\n",
        "      return answer, quantity\n",
        "#assign conditions when total liquidity at bid = at ask \n",
        "  else:\n",
        "    probability.append(0.5)\n",
        "    probability.append(0.5)\n",
        "    order_type = rng.choice(order_types, 1, p = probability)[0]\n",
        "    quantity = rng.integers(1, 15)\n",
        "    sides_of_market = ['Bid', 'Ask']\n",
        "    side_of_market = rng.choice(sides_of_market, 1, p = probability)[0]\n",
        "    answer = order_type + '-' + side_of_market\n",
        "    return answer, quantity"
      ]
    },
    {
      "cell_type": "code",
      "execution_count": null,
      "id": "48cc5c9b",
      "metadata": {
        "id": "48cc5c9b",
        "colab": {
          "base_uri": "https://localhost:8080/"
        },
        "outputId": "80bbb016-bccd-428f-f869-d54d67523cbf"
      },
      "outputs": [
        {
          "output_type": "stream",
          "name": "stdout",
          "text": [
            "('Market-Bid', 2)\n"
          ]
        }
      ],
      "source": [
        "initial_LOB = initialize_limit_order_book(bid_price=10, bid_queue=rng.integers(1, 30, size=7), ask_price=12, ask_queue=rng.integers(1,30, size=10))\n",
        "print(order_flow(limit_order_book=initial_LOB))"
      ]
    },
    {
      "cell_type": "code",
      "execution_count": null,
      "id": "ccafcc09",
      "metadata": {
        "id": "ccafcc09"
      },
      "outputs": [],
      "source": []
    },
    {
      "cell_type": "code",
      "execution_count": null,
      "id": "193c2202",
      "metadata": {
        "id": "193c2202"
      },
      "outputs": [],
      "source": []
    },
    {
      "cell_type": "code",
      "execution_count": null,
      "id": "4d6cc969",
      "metadata": {
        "id": "4d6cc969"
      },
      "outputs": [],
      "source": []
    },
    {
      "cell_type": "markdown",
      "id": "f39244be",
      "metadata": {
        "id": "f39244be"
      },
      "source": [
        "<h2>Order Processing and Price-Time Priority Policy</h2>\n",
        "<font size=\"+1\">\n",
        "    <ul>\n",
        "        <br>\n",
        "        <li>Once a new order is placed (i.e. order flow) in the existing limit order book, which is filled with resting limit orders, there will be a new version of the order book that gets updated according to some policy about how orders get filled.</li>\n",
        "        <br>\n",
        "        <li>In most limit order books, the policy for how new orders affect the current state of the limit order book is called the <a href=\"https://www.marketswiki.com/wiki/Price-time_priority#:~:text=The%20principle%20of%20price%2Ftime,on%20when%20they%20were%20entered.\">price-time priority</a> rule/algorithm/policy.</li>\n",
        "        <br>\n",
        "        <li>The price-time priority policy simply says that orders are filled according to the best price first, and then if there are multiple orders at the best price (i.e. at the bid or ask price) then the orders that get filled first will be the orders that arrived first. In other words, the policy first ranks orders according to the price and the according to their arrival time.</li>\n",
        "        <br>\n",
        "        <li>In the simplified setting of only having a limit order book with a bid and ask price and the only possble orders being {'Limit-Bid', 'Limit-Ask', 'Market-Bid', 'Market-Ask'}, the limit order book can only change in four different ways for a particular order quantity:</li>\n",
        "        <br>\n",
        "        <ul>\n",
        "            <li>if the order type is a 'Limit-Bid', then that means a buyer wants to get in line to buy at the bid price, which means the queue at the bid would be appended by the particular order quantity,</li>\n",
        "            <br>\n",
        "            <li>if the order type is a 'Limit-Ask', then that means a seller wants to get in line to sell at the ask price, which means the queue at the ask would be appended by the particular order quantity,</li>\n",
        "            <br>\n",
        "            <li>if the order type is a 'Market-Bid', then that means a seller wants to sell at the bid price immediately, which means (according to the price-time priority policy) that the orders that arrived first (i.e. at the top of the list of orders for the bid price) should be removed (filled) first,</li>\n",
        "            <br>\n",
        "            <li>if the order type is a 'Market-Ask', then that means a buyer wants to buy at the ask price immediately, which means (according to the price-time priority policy) that the orders that arrived first (i.e. at the top of the list of orders for the ask price) should be removed (filled) first.</li>\n",
        "            <br>\n",
        "            <li>In the event of a market order that removes orders at the top of the queue, be aware of the possibility that if the order size is $10$ and the queue is $[3, 4, 2, 8, 5, \\dots]$, then the first three orders would be removed completely and one quantity of the fourth order would be removed as well to produce a new queue $[1, 5, \\dots]$.</li>\n",
        "      \n",
        "</font>"
      ]
    },
    {
      "cell_type": "code",
      "execution_count": null,
      "id": "01486bb9",
      "metadata": {
        "id": "01486bb9"
      },
      "outputs": [],
      "source": [
        "def price_time_priority_policy(queue, order_quantity):\n",
        "    queue_cumsum = queue.cumsum()\n",
        "    \n",
        "    # tells you how many orders deep in the queue you have to go to get the order filled\n",
        "    # depth_of_queue_to_get_order_filled\n",
        "    fill_depth = np.argmax(order_quantity < queue_cumsum)\n",
        "    \n",
        "    queue[fill_depth] = queue_cumsum[fill_depth] - order_quantity\n",
        "    \n",
        "    new_queue = queue[fill_depth:]\n",
        "    \n",
        "    return new_queue"
      ]
    },
    {
      "cell_type": "code",
      "execution_count": null,
      "id": "e0e6c2b8",
      "metadata": {
        "id": "e0e6c2b8"
      },
      "outputs": [],
      "source": [
        "rng = np.random.default_rng(seed = 42)\n",
        "\n",
        "def update_limit_order_book_by_price_time_priority_policy(current_LOB, order_flow):\n",
        "  order_type, quantity = order_flow\n",
        "  if order_type == 'Limit-Ask':\n",
        "    current_LOB['sells'][list(current_LOB['sells'].keys())[0]] = np.append(current_LOB['sells'][list(current_LOB['sells'].keys())[0]], np.array([quantity]))\n",
        "  elif order_type == 'Limit-Bid':\n",
        "    current_LOB['buys'][list(current_LOB['buys'].keys())[0]] = np.append(current_LOB['buys'][list(current_LOB['buys'].keys())[0]], np.array([quantity]))\n",
        "  elif order_type == 'Market-Bid':\n",
        "    queue = current_LOB['buys'][list(current_LOB['buys'].keys())[0]]\n",
        "    current_LOB['buys'][list(current_LOB['buys'].keys())[0]] = price_time_priority_policy(queue, quantity)\n",
        "  else:\n",
        "    queue = current_LOB['sells'][list(current_LOB['sells'].keys())[0]]\n",
        "    current_LOB['sells'][list(current_LOB['sells'].keys())[0]] = price_time_priority_policy(queue, quantity)\n",
        "  return current_LOB"
      ]
    },
    {
      "cell_type": "code",
      "execution_count": null,
      "id": "fb06deb7",
      "metadata": {
        "id": "fb06deb7",
        "colab": {
          "base_uri": "https://localhost:8080/"
        },
        "outputId": "3bddcfea-0741-4b34-955a-6688526b940d"
      },
      "outputs": [
        {
          "output_type": "execute_result",
          "data": {
            "text/plain": [
              "{'sells': {12: array([21,  6,  3, 16, 29, 22, 23, 21, 23, 15])},\n",
              " 'buys': {10: array([ 3, 23, 19, 13, 13, 25,  3])}}"
            ]
          },
          "metadata": {},
          "execution_count": 72
        }
      ],
      "source": [
        "initial_LOB = initialize_limit_order_book(bid_price=10, bid_queue=rng.integers(1, 30, size=7), ask_price=12, ask_queue=rng.integers(1,30, size=10))\n",
        "initial_LOB"
      ]
    },
    {
      "cell_type": "code",
      "execution_count": null,
      "id": "c6e94d75",
      "metadata": {
        "id": "c6e94d75",
        "colab": {
          "base_uri": "https://localhost:8080/"
        },
        "outputId": "25c81c1f-050b-4f07-c30c-2fdfe07fc4e5"
      },
      "outputs": [
        {
          "output_type": "execute_result",
          "data": {
            "text/plain": [
              "('Market-Bid', 2)"
            ]
          },
          "metadata": {},
          "execution_count": 73
        }
      ],
      "source": [
        "order_flow_after_initial_LOB = order_flow(limit_order_book=initial_LOB)\n",
        "order_flow_after_initial_LOB"
      ]
    },
    {
      "cell_type": "code",
      "execution_count": null,
      "id": "de3edd39",
      "metadata": {
        "id": "de3edd39",
        "colab": {
          "base_uri": "https://localhost:8080/"
        },
        "outputId": "b5e1f4ce-69db-409d-b20a-8b180cb59d4a"
      },
      "outputs": [
        {
          "output_type": "execute_result",
          "data": {
            "text/plain": [
              "{'sells': {12: array([21,  6,  3, 16, 29, 22, 23, 21, 23, 15])},\n",
              " 'buys': {10: array([ 1, 23, 19, 13, 13, 25,  3])}}"
            ]
          },
          "metadata": {},
          "execution_count": 74
        }
      ],
      "source": [
        "update_limit_order_book_by_price_time_priority_policy(current_LOB=initial_LOB, order_flow=order_flow_after_initial_LOB)"
      ]
    }
  ],
  "metadata": {
    "hide_input": false,
    "kernelspec": {
      "display_name": "Python 3 (ipykernel)",
      "language": "python",
      "name": "python3"
    },
    "language_info": {
      "codemirror_mode": {
        "name": "ipython",
        "version": 3
      },
      "file_extension": ".py",
      "mimetype": "text/x-python",
      "name": "python",
      "nbconvert_exporter": "python",
      "pygments_lexer": "ipython3",
      "version": "3.8.8"
    },
    "toc": {
      "base_numbering": 1,
      "nav_menu": {},
      "number_sections": true,
      "sideBar": true,
      "skip_h1_title": false,
      "title_cell": "Table of Contents",
      "title_sidebar": "Contents",
      "toc_cell": true,
      "toc_position": {
        "height": "calc(100% - 180px)",
        "left": "10px",
        "top": "150px",
        "width": "183.969px"
      },
      "toc_section_display": true,
      "toc_window_display": true
    },
    "colab": {
      "provenance": [],
      "collapsed_sections": []
    }
  },
  "nbformat": 4,
  "nbformat_minor": 5
}